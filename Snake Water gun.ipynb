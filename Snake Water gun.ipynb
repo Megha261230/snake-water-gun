{
 "cells": [
  {
   "cell_type": "code",
   "execution_count": 1,
   "id": "3026274b",
   "metadata": {},
   "outputs": [
    {
     "name": "stdout",
     "output_type": "stream",
     "text": [
      "0 for snake,1 for water and 2 for gun2\n",
      "you:   2\n",
      "computer:   1\n",
      "you loose\n"
     ]
    }
   ],
   "source": [
    "import random\n",
    "\n",
    "comp = random.randint(0,2)\n",
    "user = int(input(\"0 for snake,1 for water and 2 for gun\"))\n",
    "\n",
    "def check(comp,user):\n",
    "    if(comp == user):\n",
    "        return 0\n",
    "    if(comp==0 and user ==1):\n",
    "        return -1\n",
    "    if(comp==1 and user ==2):\n",
    "        return -1\n",
    "    if (comp ==2 and user==0):\n",
    "        return -1\n",
    "    return 1\n",
    "        \n",
    "\n",
    "score = check(comp,user)\n",
    "\n",
    "print (\"you:  \",user)\n",
    "print (\"computer:  \",comp)\n",
    "\n",
    "if (score==0):\n",
    "    print(\"draw\")\n",
    "elif (score ==1):\n",
    "    print(\"you won\")\n",
    "else :\n",
    "    print(\"you loose\")\n",
    "    \n",
    "    "
   ]
  },
  {
   "cell_type": "code",
   "execution_count": null,
   "id": "b44755f9",
   "metadata": {},
   "outputs": [],
   "source": []
  },
  {
   "cell_type": "code",
   "execution_count": null,
   "id": "2b4c97a0",
   "metadata": {},
   "outputs": [],
   "source": []
  }
 ],
 "metadata": {
  "kernelspec": {
   "display_name": "Python 3 (ipykernel)",
   "language": "python",
   "name": "python3"
  },
  "language_info": {
   "codemirror_mode": {
    "name": "ipython",
    "version": 3
   },
   "file_extension": ".py",
   "mimetype": "text/x-python",
   "name": "python",
   "nbconvert_exporter": "python",
   "pygments_lexer": "ipython3",
   "version": "3.11.5"
  }
 },
 "nbformat": 4,
 "nbformat_minor": 5
}
